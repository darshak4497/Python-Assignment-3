{
 "cells": [
  {
   "cell_type": "code",
   "execution_count": 1,
   "id": "615df2b6",
   "metadata": {},
   "outputs": [],
   "source": [
    "# Answer :- 1.1 (Create own myreduce function)\n",
    "def add(a,b):\n",
    "    return a+b\n",
    "l=[1,2,3,4,5,6]\n",
    "a=l[0]\n",
    "\n",
    "\n",
    "def myreduce(add,l):\n",
    "    a=l[0]\n",
    "    for i in range(1,len(l)):\n",
    "        a=add(a,l[i])\n",
    "    return a\n",
    "    \n"
   ]
  },
  {
   "cell_type": "code",
   "execution_count": 2,
   "id": "d0afe8ab",
   "metadata": {},
   "outputs": [
    {
     "data": {
      "text/plain": [
       "21"
      ]
     },
     "execution_count": 2,
     "metadata": {},
     "output_type": "execute_result"
    }
   ],
   "source": [
    "myreduce(add,l)       # Note:- Instead of add function, we can also create different function and can apply to myreduce()"
   ]
  },
  {
   "cell_type": "code",
   "execution_count": 3,
   "id": "931788e5",
   "metadata": {},
   "outputs": [],
   "source": [
    "#Answer :- 1.2 (Create own myfilter function)\n",
    "a=[]\n",
    "def even(x):\n",
    "    if x%2==0:\n",
    "        a.append(x)\n",
    "        \n",
    "l=[1,2,3,4,5,6]\n",
    "def myfilter(fun,l):\n",
    "    for i in l:\n",
    "        fun(i)\n",
    "    return a\n",
    "    "
   ]
  },
  {
   "cell_type": "code",
   "execution_count": 4,
   "id": "7d59d81c",
   "metadata": {},
   "outputs": [
    {
     "data": {
      "text/plain": [
       "[2, 4, 6]"
      ]
     },
     "execution_count": 4,
     "metadata": {},
     "output_type": "execute_result"
    }
   ],
   "source": [
    "myfilter(even,l)"
   ]
  },
  {
   "cell_type": "code",
   "execution_count": 5,
   "id": "7e64245f",
   "metadata": {},
   "outputs": [],
   "source": [
    "#Answer :-2 (List comprehension)\n",
    "\n",
    "#No:-1\n",
    "\n",
    "c=[i*(j+1) for i in 'xyz' for j in range(4)]"
   ]
  },
  {
   "cell_type": "code",
   "execution_count": 6,
   "id": "3f6128b0",
   "metadata": {},
   "outputs": [
    {
     "data": {
      "text/plain": [
       "['x', 'xx', 'xxx', 'xxxx', 'y', 'yy', 'yyy', 'yyyy', 'z', 'zz', 'zzz', 'zzzz']"
      ]
     },
     "execution_count": 6,
     "metadata": {},
     "output_type": "execute_result"
    }
   ],
   "source": [
    "c"
   ]
  },
  {
   "cell_type": "code",
   "execution_count": 7,
   "id": "fe11c487",
   "metadata": {},
   "outputs": [],
   "source": [
    "#No:-2\n",
    "\n",
    "d=[j*(i+1) for i in range(4) for j in 'xyz']"
   ]
  },
  {
   "cell_type": "code",
   "execution_count": 8,
   "id": "7d680ff1",
   "metadata": {},
   "outputs": [
    {
     "data": {
      "text/plain": [
       "['x', 'y', 'z', 'xx', 'yy', 'zz', 'xxx', 'yyy', 'zzz', 'xxxx', 'yyyy', 'zzzz']"
      ]
     },
     "execution_count": 8,
     "metadata": {},
     "output_type": "execute_result"
    }
   ],
   "source": [
    "d"
   ]
  },
  {
   "cell_type": "code",
   "execution_count": 9,
   "id": "b1b5f5d7",
   "metadata": {},
   "outputs": [],
   "source": [
    "#No:- 3\n",
    "\n",
    "e=[[i+j] for i in range(2,5) for j in range(3)]"
   ]
  },
  {
   "cell_type": "code",
   "execution_count": 10,
   "id": "567303f1",
   "metadata": {},
   "outputs": [
    {
     "data": {
      "text/plain": [
       "[[2], [3], [4], [3], [4], [5], [4], [5], [6]]"
      ]
     },
     "execution_count": 10,
     "metadata": {},
     "output_type": "execute_result"
    }
   ],
   "source": [
    "e"
   ]
  },
  {
   "cell_type": "code",
   "execution_count": 11,
   "id": "f799713c",
   "metadata": {},
   "outputs": [],
   "source": [
    "#No:- 4\n",
    "\n",
    "f=[[i+j for i in range(2,6)] for j in range(4)]"
   ]
  },
  {
   "cell_type": "code",
   "execution_count": 12,
   "id": "3f87b2c9",
   "metadata": {},
   "outputs": [
    {
     "data": {
      "text/plain": [
       "[[2, 3, 4, 5], [3, 4, 5, 6], [4, 5, 6, 7], [5, 6, 7, 8]]"
      ]
     },
     "execution_count": 12,
     "metadata": {},
     "output_type": "execute_result"
    }
   ],
   "source": [
    "f"
   ]
  },
  {
   "cell_type": "code",
   "execution_count": 13,
   "id": "6ca85370",
   "metadata": {},
   "outputs": [],
   "source": [
    "#No:-5\n",
    "\n",
    "\n",
    "g=[(j,i) for i in range(1,4) for j in range(1,4)]"
   ]
  },
  {
   "cell_type": "code",
   "execution_count": 14,
   "id": "b4f5cfd1",
   "metadata": {},
   "outputs": [
    {
     "data": {
      "text/plain": [
       "[(1, 1), (2, 1), (3, 1), (1, 2), (2, 2), (3, 2), (1, 3), (2, 3), (3, 3)]"
      ]
     },
     "execution_count": 14,
     "metadata": {},
     "output_type": "execute_result"
    }
   ],
   "source": [
    "g"
   ]
  },
  {
   "cell_type": "code",
   "execution_count": null,
   "id": "d1f8abba",
   "metadata": {},
   "outputs": [],
   "source": []
  }
 ],
 "metadata": {
  "kernelspec": {
   "display_name": "Python 3",
   "language": "python",
   "name": "python3"
  },
  "language_info": {
   "codemirror_mode": {
    "name": "ipython",
    "version": 3
   },
   "file_extension": ".py",
   "mimetype": "text/x-python",
   "name": "python",
   "nbconvert_exporter": "python",
   "pygments_lexer": "ipython3",
   "version": "3.8.8"
  }
 },
 "nbformat": 4,
 "nbformat_minor": 5
}
